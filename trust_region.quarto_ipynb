{
  "cells": [
    {
      "cell_type": "markdown",
      "metadata": {},
      "source": [
        "---\n",
        "title: \"Trust Region\"\n",
        "format: html\n",
        "---"
      ],
      "id": "079bc2ba"
    },
    {
      "cell_type": "code",
      "metadata": {},
      "source": [
        "import numpy as np\n",
        "import pandas as pd\n",
        "import networkx as nx\n",
        "\n",
        "\n",
        "import scipy as sp\n",
        "\n",
        "import seaborn as sns\n",
        "sns.set_theme()"
      ],
      "id": "8a92d195",
      "execution_count": null,
      "outputs": []
    },
    {
      "cell_type": "code",
      "metadata": {},
      "source": [
        "class GNMInstance:\n",
        "    def __init__(self,no_nodes, no_edges, seed=None):\n",
        "        self.no_nodes = no_nodes\n",
        "        self.no_edges = no_edges\n",
        "\n",
        "        self._graph = None\n",
        "        self._adjacency = None\n",
        "\n",
        "    def _generate(self):\n",
        "        self._graph = nx.gnm_random_graph(self.no_nodes, self.no_edges)\n",
        "\n",
        "    @property\n",
        "    def n(self):\n",
        "        return self.no_nodes\n",
        "\n",
        "    @property\n",
        "    def m(self):\n",
        "        return self.edges\n",
        "\n",
        "    @property\n",
        "    def adjacency(self):\n",
        "        if self._adjacency:\n",
        "            return self._adjacency\n",
        "\n",
        "        if not self._graph:\n",
        "            self._generate()\n",
        "\n",
        "        self._adjacency = nx.to_numpy_array(self._graph)\n",
        "\n",
        "\n",
        "nNodes = 5\n",
        "mEdges = 7\n",
        "\n",
        "instance = GNMInstance(5, 7)\n",
        "\n",
        "# G0 = nx.barabasi_albert_graph(nNodes, 5)\n",
        "\n",
        "nx.draw(G0, labels = {x:x for x in G0.nodes()})"
      ],
      "id": "4892385d",
      "execution_count": null,
      "outputs": []
    }
  ],
  "metadata": {
    "kernelspec": {
      "name": "python3",
      "language": "python",
      "display_name": "Python 3 (ipykernel)",
      "path": "/home/dkubek/.pyenv/versions/3.11.10/envs/AGS/share/jupyter/kernels/python3"
    }
  },
  "nbformat": 4,
  "nbformat_minor": 5
}