{
 "cells": [
  {
   "cell_type": "code",
   "execution_count": 1,
   "id": "46624a10",
   "metadata": {},
   "outputs": [],
   "source": [
    "import numpy as np\n",
    "\n",
    "import seaborn as sns\n",
    "\n",
    "sns.set_theme()"
   ]
  },
  {
   "cell_type": "code",
   "execution_count": 6,
   "id": "e4715f76",
   "metadata": {},
   "outputs": [
    {
     "data": {
      "text/plain": [
       "'/home/dkubek/devel/approximate-graph-symmetries'"
      ]
     },
     "execution_count": 6,
     "metadata": {},
     "output_type": "execute_result"
    }
   ],
   "source": [
    "import os\n",
    "\n",
    "os.path.abspath(\".\")"
   ]
  },
  {
   "cell_type": "code",
   "execution_count": null,
   "id": "f51ee281",
   "metadata": {},
   "outputs": [],
   "source": [
    "import pickle\n",
    "\n",
    "instance_file = (\n",
    "    \"data/pidnebesna/LRM_ER_rewired/LRM_ER_nNodes100_density15_rew1_allInfo.p\"\n",
    ")\n",
    "with open(instance_file, \"rb\") as fin:\n",
    "    data = pickle.load(fin)\n",
    "\n",
    "A = data[10]"
   ]
  },
  {
   "cell_type": "code",
   "execution_count": null,
   "id": "13d39757",
   "metadata": {},
   "outputs": [],
   "source": [
    "sns.heatmap(A)"
   ]
  },
  {
   "cell_type": "code",
   "execution_count": null,
   "id": "ee46803d",
   "metadata": {},
   "outputs": [],
   "source": [
    "from AGS.methods import OT4P4AS\n",
    "\n",
    "method = OT4P4AS(max_iter=3000)\n",
    "results = method.solve(A, 0.001)\n",
    "\n",
    "sns.heatmap(results[\"P\"])"
   ]
  },
  {
   "cell_type": "code",
   "execution_count": null,
   "id": "00bac060",
   "metadata": {},
   "outputs": [],
   "source": [
    "from AGS.methods import SoftSort\n",
    "\n",
    "method = SoftSort(\n",
    "    learning_rate=0.1, annealing_scheme=\"cosine\", max_iter=5000, decay_steps=10000\n",
    ")\n",
    "results = method.solve(A, 0.2)\n",
    "\n",
    "sns.heatmap(results[\"P\"])"
   ]
  },
  {
   "cell_type": "code",
   "execution_count": null,
   "id": "96a62707",
   "metadata": {},
   "outputs": [],
   "source": [
    "from AGS.methods import QSA\n",
    "\n",
    "method = QSA()\n",
    "results = method.solve(A, 0.2)\n",
    "\n",
    "sns.heatmap(results[\"P\"])"
   ]
  },
  {
   "cell_type": "code",
   "execution_count": null,
   "id": "b5872ac1",
   "metadata": {},
   "outputs": [],
   "source": [
    "from AGS.methods import InteriorPoint\n",
    "\n",
    "method = InteriorPoint(verbose=True)\n",
    "results = method.solve(A, 0.2)\n",
    "\n",
    "sns.heatmap(results[\"P\"])"
   ]
  },
  {
   "cell_type": "code",
   "execution_count": null,
   "id": "698a6210",
   "metadata": {},
   "outputs": [],
   "source": [
    "from AGS.methods import Manifold\n",
    "\n",
    "method = Manifold(optimizer=\"steepest_descent\", max_iter=3000)\n",
    "results = method.solve(A, 0.2)\n",
    "\n",
    "sns.heatmap(results[\"P\"])"
   ]
  },
  {
   "cell_type": "code",
   "execution_count": null,
   "id": "5b9c02fd",
   "metadata": {},
   "outputs": [],
   "source": [
    "import matplotlib.pyplot as plt\n",
    "\n",
    "instance_file = (\n",
    "    \"data/pidnebesna/LRM_ER_rewired/LRM_ER_nNodes100_density15_rew1_allInfo.npz\"\n",
    ")\n",
    "data = np.load(instance_file)\n",
    "A = data[\"10\"]\n",
    "\n",
    "# Define methods and their parameters\n",
    "methods = [\n",
    "    (\"OT4P4AS\", OT4P4AS(max_iter=3000), 0.001),\n",
    "    (\n",
    "        \"SoftSort\",\n",
    "        SoftSort(\n",
    "            learning_rate=0.1,\n",
    "            annealing_scheme=\"cosine\",\n",
    "            max_iter=5000,\n",
    "            decay_steps=10000,\n",
    "        ),\n",
    "        0.2,\n",
    "    ),\n",
    "    (\"QSA\", QSA(), 0.2),\n",
    "    (\"InteriorPoint\", InteriorPoint(verbose=False), 0.2),\n",
    "    (\"Manifold\", Manifold(optimizer=\"steepest_descent\", max_iter=3000), 0.2),\n",
    "]\n",
    "\n",
    "# Create subplot grid\n",
    "fig, axes = plt.subplots(5, 5, figsize=(20, 20))\n",
    "fig.suptitle(\"Method Comparison: 5 Runs x 5 Methods\", fontsize=16)\n",
    "\n",
    "# Run experiments\n",
    "for run in range(5):\n",
    "    for col, (name, method, reg_param) in enumerate(methods):\n",
    "        # Solve and plot\n",
    "        results = method.solve(A, reg_param)\n",
    "        sns.heatmap(results[\"P\"], ax=axes[run, col], cbar=False, square=True)\n",
    "\n",
    "        # Set titles only for first row\n",
    "        if run == 0:\n",
    "            axes[run, col].set_title(name, fontsize=12)\n",
    "\n",
    "        # Set y-labels only for first column\n",
    "        if col == 0:\n",
    "            axes[run, col].set_ylabel(f\"Run {run + 1}\", fontsize=12)\n",
    "\n",
    "        # Remove axis labels for cleaner look\n",
    "        axes[run, col].set_xlabel(\"\")\n",
    "        axes[run, col].set_ylabel(\"\")\n",
    "\n",
    "plt.tight_layout()\n",
    "plt.show()"
   ]
  },
  {
   "cell_type": "code",
   "execution_count": null,
   "id": "fac39923",
   "metadata": {},
   "outputs": [],
   "source": []
  }
 ],
 "metadata": {
  "kernelspec": {
   "display_name": ".venv",
   "language": "python",
   "name": "python3"
  },
  "language_info": {
   "codemirror_mode": {
    "name": "ipython",
    "version": 3
   },
   "file_extension": ".py",
   "mimetype": "text/x-python",
   "name": "python",
   "nbconvert_exporter": "python",
   "pygments_lexer": "ipython3",
   "version": "3.11.10"
  }
 },
 "nbformat": 4,
 "nbformat_minor": 5
}
